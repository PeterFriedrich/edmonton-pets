{
 "cells": [
  {
   "cell_type": "markdown",
   "id": "5b2eb7ed",
   "metadata": {},
   "source": [
    "### Download Dataset with Socrata\n",
    "\n",
    "#### API endpoints\n",
    "Pet Licenses by Neighbourhood - https://data.edmonton.ca/resource/5squ-mg4w.json\n",
    "\n",
    "Pet License History by Neighbourhood (Transactions) - https://data.edmonton.ca/resource/7hy9-wuyj.json"
   ]
  },
  {
   "cell_type": "code",
   "execution_count": 7,
   "id": "732d3d2a",
   "metadata": {},
   "outputs": [],
   "source": [
    "import os"
   ]
  },
  {
   "cell_type": "code",
   "execution_count": 16,
   "id": "c33838aa",
   "metadata": {},
   "outputs": [],
   "source": [
    "# check for data dir, make if not there\n",
    "if not os.path.exists(\"data\"):\n",
    "    os.mkdir(\"data\")"
   ]
  },
  {
   "cell_type": "code",
   "execution_count": 17,
   "id": "b02c44f9",
   "metadata": {},
   "outputs": [],
   "source": [
    "# download datasets with socrata api\n"
   ]
  }
 ],
 "metadata": {
  "kernelspec": {
   "display_name": "edm-pets",
   "language": "python",
   "name": "edm-pets"
  },
  "language_info": {
   "codemirror_mode": {
    "name": "ipython",
    "version": 3
   },
   "file_extension": ".py",
   "mimetype": "text/x-python",
   "name": "python",
   "nbconvert_exporter": "python",
   "pygments_lexer": "ipython3",
   "version": "3.10.0"
  }
 },
 "nbformat": 4,
 "nbformat_minor": 5
}
