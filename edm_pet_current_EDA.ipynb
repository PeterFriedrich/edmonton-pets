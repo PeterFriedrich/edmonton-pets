{
 "cells": [
  {
   "cell_type": "markdown",
   "id": "ed7e9e8d",
   "metadata": {},
   "source": [
    "### Edmonton Pet Licenses by Neighbourhood\n",
    "\n",
    "https://data.edmonton.ca/Community-Services/Pet-Licenses-by-Neighbourhood/5squ-mg4w\n",
    "\n",
    "This csv is a snapshot of current pets licensed of the last update of the dataset. If a license has not been renewed, the pet will not be in the database. "
   ]
  },
  {
   "cell_type": "markdown",
   "id": "57ada7e8",
   "metadata": {},
   "source": [
    "#### TODO:\n",
    "\n",
    "- set up datetime inference"
   ]
  },
  {
   "cell_type": "markdown",
   "id": "02807881",
   "metadata": {},
   "source": [
    "### Data Loading:"
   ]
  },
  {
   "cell_type": "code",
   "execution_count": 1,
   "id": "9f3d9417",
   "metadata": {},
   "outputs": [],
   "source": [
    "import pandas as pd"
   ]
  },
  {
   "cell_type": "code",
   "execution_count": 3,
   "id": "4eacb188",
   "metadata": {},
   "outputs": [
    {
     "name": "stdout",
     "output_type": "stream",
     "text": [
      " Volume in drive C has no label.\n",
      " Volume Serial Number is 6C76-095F\n",
      "\n",
      " Directory of C:\\Users\\Peter\\Documents\\GitHub\\edmonton-pets\\data\n",
      "\n",
      "2022-01-03  01:20 AM    <DIR>          .\n",
      "2022-01-03  01:20 AM    <DIR>          ..\n",
      "2022-01-03  01:19 AM        18,713,077 Pet__Licenses_by_Neighbourhood.csv\n",
      "2022-01-03  01:20 AM        56,106,505 Pet_License_History_by_Neighbourhood.csv\n",
      "               2 File(s)     74,819,582 bytes\n",
      "               2 Dir(s)  659,578,077,184 bytes free\n"
     ]
    }
   ],
   "source": [
    "ls data"
   ]
  },
  {
   "cell_type": "code",
   "execution_count": 6,
   "id": "f9804504",
   "metadata": {},
   "outputs": [],
   "source": [
    "path = \"data/Pet__Licenses_by_Neighbourhood.csv\""
   ]
  },
  {
   "cell_type": "code",
   "execution_count": 7,
   "id": "4a0b5c48",
   "metadata": {},
   "outputs": [],
   "source": [
    "pet_df = pd.read_csv(path)"
   ]
  },
  {
   "cell_type": "code",
   "execution_count": 8,
   "id": "a31562eb",
   "metadata": {},
   "outputs": [
    {
     "data": {
      "text/html": [
       "<div>\n",
       "<style scoped>\n",
       "    .dataframe tbody tr th:only-of-type {\n",
       "        vertical-align: middle;\n",
       "    }\n",
       "\n",
       "    .dataframe tbody tr th {\n",
       "        vertical-align: top;\n",
       "    }\n",
       "\n",
       "    .dataframe thead th {\n",
       "        text-align: right;\n",
       "    }\n",
       "</style>\n",
       "<table border=\"1\" class=\"dataframe\">\n",
       "  <thead>\n",
       "    <tr style=\"text-align: right;\">\n",
       "      <th></th>\n",
       "      <th>YEAR</th>\n",
       "      <th>MONTH</th>\n",
       "      <th>MONTH_NUMBER</th>\n",
       "      <th>LICENSE_DATE</th>\n",
       "      <th>NEIGHBOURHOOD</th>\n",
       "      <th>NEIGHBOURHOOD_ID</th>\n",
       "      <th>PET_TYPE</th>\n",
       "      <th>BREED</th>\n",
       "      <th>GENDER</th>\n",
       "      <th>SPAYED_OR_NEUTERED</th>\n",
       "      <th>LATITUDE</th>\n",
       "      <th>LONGITUDE</th>\n",
       "      <th>LOCATION</th>\n",
       "      <th>COUNT</th>\n",
       "      <th>Point Location</th>\n",
       "    </tr>\n",
       "  </thead>\n",
       "  <tbody>\n",
       "    <tr>\n",
       "      <th>0</th>\n",
       "      <td>2021</td>\n",
       "      <td>May</td>\n",
       "      <td>5</td>\n",
       "      <td>05/20/2021 12:00:00 AM</td>\n",
       "      <td>NaN</td>\n",
       "      <td>NaN</td>\n",
       "      <td>Dog</td>\n",
       "      <td>LABRADOR RETRIEVER</td>\n",
       "      <td>Female</td>\n",
       "      <td>Yes</td>\n",
       "      <td>NaN</td>\n",
       "      <td>NaN</td>\n",
       "      <td>NaN</td>\n",
       "      <td>1</td>\n",
       "      <td>NaN</td>\n",
       "    </tr>\n",
       "    <tr>\n",
       "      <th>1</th>\n",
       "      <td>2021</td>\n",
       "      <td>September</td>\n",
       "      <td>9</td>\n",
       "      <td>09/28/2021 12:00:00 AM</td>\n",
       "      <td>NaN</td>\n",
       "      <td>NaN</td>\n",
       "      <td>Dog</td>\n",
       "      <td>POODLE (MINIATURE)</td>\n",
       "      <td>Male</td>\n",
       "      <td>No</td>\n",
       "      <td>NaN</td>\n",
       "      <td>NaN</td>\n",
       "      <td>NaN</td>\n",
       "      <td>1</td>\n",
       "      <td>NaN</td>\n",
       "    </tr>\n",
       "    <tr>\n",
       "      <th>2</th>\n",
       "      <td>2021</td>\n",
       "      <td>March</td>\n",
       "      <td>3</td>\n",
       "      <td>03/22/2021 12:00:00 AM</td>\n",
       "      <td>NaN</td>\n",
       "      <td>NaN</td>\n",
       "      <td>Dog</td>\n",
       "      <td>BOSTON TERRIER</td>\n",
       "      <td>Female</td>\n",
       "      <td>Yes</td>\n",
       "      <td>NaN</td>\n",
       "      <td>NaN</td>\n",
       "      <td>NaN</td>\n",
       "      <td>1</td>\n",
       "      <td>NaN</td>\n",
       "    </tr>\n",
       "    <tr>\n",
       "      <th>3</th>\n",
       "      <td>2020</td>\n",
       "      <td>December</td>\n",
       "      <td>12</td>\n",
       "      <td>12/19/2020 12:00:00 AM</td>\n",
       "      <td>Rapperswill</td>\n",
       "      <td>3370.0</td>\n",
       "      <td>Dog</td>\n",
       "      <td>LABRADOR RETRIEVER</td>\n",
       "      <td>Male</td>\n",
       "      <td>Yes</td>\n",
       "      <td>53.635589</td>\n",
       "      <td>-113.535030</td>\n",
       "      <td>(53.635589013554885, -113.53502955798223)</td>\n",
       "      <td>1</td>\n",
       "      <td>POINT (-113.53502955798223 53.635589013554885)</td>\n",
       "    </tr>\n",
       "    <tr>\n",
       "      <th>4</th>\n",
       "      <td>2021</td>\n",
       "      <td>July</td>\n",
       "      <td>7</td>\n",
       "      <td>07/19/2021 12:00:00 AM</td>\n",
       "      <td>Wild Rose</td>\n",
       "      <td>6790.0</td>\n",
       "      <td>Dog</td>\n",
       "      <td>FRENCH BULLDOG</td>\n",
       "      <td>Female</td>\n",
       "      <td>Yes</td>\n",
       "      <td>53.470564</td>\n",
       "      <td>-113.381167</td>\n",
       "      <td>(53.47056409015751, -113.3811672388747)</td>\n",
       "      <td>1</td>\n",
       "      <td>POINT (-113.3811672388747 53.47056409015751)</td>\n",
       "    </tr>\n",
       "  </tbody>\n",
       "</table>\n",
       "</div>"
      ],
      "text/plain": [
       "   YEAR      MONTH  MONTH_NUMBER            LICENSE_DATE NEIGHBOURHOOD  \\\n",
       "0  2021        May             5  05/20/2021 12:00:00 AM           NaN   \n",
       "1  2021  September             9  09/28/2021 12:00:00 AM           NaN   \n",
       "2  2021      March             3  03/22/2021 12:00:00 AM           NaN   \n",
       "3  2020   December            12  12/19/2020 12:00:00 AM   Rapperswill   \n",
       "4  2021       July             7  07/19/2021 12:00:00 AM     Wild Rose   \n",
       "\n",
       "   NEIGHBOURHOOD_ID PET_TYPE               BREED  GENDER SPAYED_OR_NEUTERED  \\\n",
       "0               NaN      Dog  LABRADOR RETRIEVER  Female                Yes   \n",
       "1               NaN      Dog  POODLE (MINIATURE)    Male                 No   \n",
       "2               NaN      Dog      BOSTON TERRIER  Female                Yes   \n",
       "3            3370.0      Dog  LABRADOR RETRIEVER    Male                Yes   \n",
       "4            6790.0      Dog      FRENCH BULLDOG  Female                Yes   \n",
       "\n",
       "    LATITUDE   LONGITUDE                                   LOCATION  COUNT  \\\n",
       "0        NaN         NaN                                        NaN      1   \n",
       "1        NaN         NaN                                        NaN      1   \n",
       "2        NaN         NaN                                        NaN      1   \n",
       "3  53.635589 -113.535030  (53.635589013554885, -113.53502955798223)      1   \n",
       "4  53.470564 -113.381167    (53.47056409015751, -113.3811672388747)      1   \n",
       "\n",
       "                                   Point Location  \n",
       "0                                             NaN  \n",
       "1                                             NaN  \n",
       "2                                             NaN  \n",
       "3  POINT (-113.53502955798223 53.635589013554885)  \n",
       "4    POINT (-113.3811672388747 53.47056409015751)  "
      ]
     },
     "execution_count": 8,
     "metadata": {},
     "output_type": "execute_result"
    }
   ],
   "source": [
    "pet_df.head()"
   ]
  },
  {
   "cell_type": "code",
   "execution_count": 9,
   "id": "57463212",
   "metadata": {},
   "outputs": [
    {
     "data": {
      "text/plain": [
       "YEAR                    int64\n",
       "MONTH                  object\n",
       "MONTH_NUMBER            int64\n",
       "LICENSE_DATE           object\n",
       "NEIGHBOURHOOD          object\n",
       "NEIGHBOURHOOD_ID      float64\n",
       "PET_TYPE               object\n",
       "BREED                  object\n",
       "GENDER                 object\n",
       "SPAYED_OR_NEUTERED     object\n",
       "LATITUDE              float64\n",
       "LONGITUDE             float64\n",
       "LOCATION               object\n",
       "COUNT                   int64\n",
       "Point Location         object\n",
       "dtype: object"
      ]
     },
     "execution_count": 9,
     "metadata": {},
     "output_type": "execute_result"
    }
   ],
   "source": [
    "pet_df.dtypes"
   ]
  }
 ],
 "metadata": {
  "kernelspec": {
   "display_name": "edm-pets",
   "language": "python",
   "name": "edm-pets"
  },
  "language_info": {
   "codemirror_mode": {
    "name": "ipython",
    "version": 3
   },
   "file_extension": ".py",
   "mimetype": "text/x-python",
   "name": "python",
   "nbconvert_exporter": "python",
   "pygments_lexer": "ipython3",
   "version": "3.9.7"
  }
 },
 "nbformat": 4,
 "nbformat_minor": 5
}
